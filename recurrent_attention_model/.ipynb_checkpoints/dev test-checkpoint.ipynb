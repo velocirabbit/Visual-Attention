{
 "cells": [
  {
   "cell_type": "code",
   "execution_count": 1,
   "metadata": {},
   "outputs": [],
   "source": [
    "import torch, torchvision, numpy as np\n",
    "import torch.nn.functional as F\n",
    "from torch.autograd import Variable\n",
    "\n",
    "from ram import *"
   ]
  },
  {
   "cell_type": "code",
   "execution_count": 2,
   "metadata": {},
   "outputs": [],
   "source": [
    "nbatches = 2\n",
    "nchannels = 3\n",
    "img_sz = 32"
   ]
  },
  {
   "cell_type": "code",
   "execution_count": 3,
   "metadata": {},
   "outputs": [],
   "source": [
    "imgs = Variable(torch.from_numpy(np.random.random((nbatches, nchannels, img_sz, img_sz)))).type(torch.FloatTensor)\n",
    "locs = [(5, 9), (1, 12)]"
   ]
  },
  {
   "cell_type": "code",
   "execution_count": 4,
   "metadata": {},
   "outputs": [
    {
     "data": {
      "text/plain": [
       "[torch.Size([1, 3, 3, 3]),\n",
       " torch.Size([1, 3, 9, 9]),\n",
       " torch.Size([1, 3, 19, 19])]"
      ]
     },
     "execution_count": 4,
     "metadata": {},
     "output_type": "execute_result"
    }
   ],
   "source": [
    "gs = GlimpseSensor(img_sz, nchannels)\n",
    "[k.size() for k in gs.kernels[1:]]"
   ]
  },
  {
   "cell_type": "code",
   "execution_count": 5,
   "metadata": {},
   "outputs": [],
   "source": [
    "unsized_glimpses, glimpses = gs(imgs, locs)"
   ]
  },
  {
   "cell_type": "code",
   "execution_count": 6,
   "metadata": {},
   "outputs": [
    {
     "data": {
      "text/plain": [
       "([torch.Size([2, 3, 2, 2]),\n",
       "  torch.Size([2, 3, 4, 4]),\n",
       "  torch.Size([2, 3, 10, 10]),\n",
       "  torch.Size([2, 3, 20, 20])],\n",
       " torch.Size([2, 4, 2, 2]))"
      ]
     },
     "execution_count": 6,
     "metadata": {},
     "output_type": "execute_result"
    }
   ],
   "source": [
    "[g.size() for g in unsized_glimpses], glimpses.size()"
   ]
  },
  {
   "cell_type": "code",
   "execution_count": 7,
   "metadata": {},
   "outputs": [
    {
     "data": {
      "text/plain": [
       "[torch.Size([2, 1, 2, 2]),\n",
       " torch.Size([2, 1, 2, 2]),\n",
       " torch.Size([2, 1, 2, 2]),\n",
       " torch.Size([2, 1, 2, 2])]"
      ]
     },
     "execution_count": 7,
     "metadata": {},
     "output_type": "execute_result"
    }
   ],
   "source": [
    "[gs.resize(g, k).size() for g, k in zip(unsized_glimpses, gs.kernels)]"
   ]
  },
  {
   "cell_type": "code",
   "execution_count": null,
   "metadata": {},
   "outputs": [],
   "source": []
  }
 ],
 "metadata": {
  "kernelspec": {
   "display_name": "Python 3",
   "language": "python",
   "name": "python3"
  },
  "language_info": {
   "codemirror_mode": {
    "name": "ipython",
    "version": 3
   },
   "file_extension": ".py",
   "mimetype": "text/x-python",
   "name": "python",
   "nbconvert_exporter": "python",
   "pygments_lexer": "ipython3",
   "version": "3.6.4"
  }
 },
 "nbformat": 4,
 "nbformat_minor": 2
}
